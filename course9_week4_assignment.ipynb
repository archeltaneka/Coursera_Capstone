{
    "cells": [
        {
            "cell_type": "markdown",
            "metadata": {
                "collapsed": true
            },
            "source": "# Capstone Project - The Battle of Neighborhoods"
        },
        {
            "cell_type": "markdown",
            "metadata": {},
            "source": "## Introduction\n\nThe city of Toronto is the 4th largest city in North America. It is a home to over 6 million people. It also provides an international center of business, finance, arts, and culture. This city is recognized as one of the most multicultural and cosmopolitan cities around the world. As the population grows, there are nearly various numbers of ethnics and backgrounds among its citizen. This also means that its culture is influenced by people whho resided in Toronto from foreign countries. Thus, the culture varies based on regions (Asia, Europe, Africa, etc.) All kinds of business are appearing, especially food-related industries such as restaurants. People who want to start their businesses have to think and analyze the risks before getting into it. The idea derived from this analysis will provide deep analysis and insights which can help them strategically and lead to a high income low risk scenario. Toronto and its surroundings have established a strong base in terms of cuisines. This is probably influenced by the immigrants who moved to Toronto for the past decades. Specifically, Japanese dishes like ramen and sushi have become very popular among the Canadians. Starting one could be one of a challenge, but with correct strategy and market analysis, a business owner is already on the right track of success.\n\nJapanese cuisines demand high standards in terms of ingredients and spices. Since Toronto is not surrounded by waters, import is the only way to acquire the best ingredients. Not only that, location also determines the fate of the business. One needs to focus on which neighborhoods and outlets have already proven their success. High traffic locations greatly impact the number of customers who walk in into the restaurant. Perhaps if a more quiet environment is preferrable, opening the restaurant far from the cities with a scenery is also not a bad idea. There are still numerous factors that have to be considered before deciding the location.\n\nThe target audience will be the people who live in the Riverdale area. Using the given borough, the main objective is to analyze and recommend which location works the best. The final decision making is based on the number of traffic intensities and surrounding venues. By providing deep and thorough analysis, this would surely draw people's and investors' attention to open a Japanese restaurant around the area."
        },
        {
            "cell_type": "markdown",
            "metadata": {},
            "source": "## Data\n\nLuckily, [this Wikipedia page](https://en.wikipedia.org/wiki/List_of_neighbourhoods_in_Toronto) provides a complete list of Toronto neighborhoods along with their unique IDs. Combining this data with [Foursquare Venues Categories](https://developer.foursquare.com/docs/resources/categories) (Japanese Restaurants ID: 4bf58dd8d48988d111941735), we have successfully obtained the dataset that we need to perform our prediction and analysis.\n"
        },
        {
            "cell_type": "code",
            "execution_count": null,
            "metadata": {},
            "outputs": [],
            "source": ""
        }
    ],
    "metadata": {
        "kernelspec": {
            "display_name": "Python 3.7",
            "language": "python",
            "name": "python3"
        },
        "language_info": {
            "codemirror_mode": {
                "name": "ipython",
                "version": 3
            },
            "file_extension": ".py",
            "mimetype": "text/x-python",
            "name": "python",
            "nbconvert_exporter": "python",
            "pygments_lexer": "ipython3",
            "version": "3.7.9"
        }
    },
    "nbformat": 4,
    "nbformat_minor": 1
}